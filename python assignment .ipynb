{
 "cells": [
  {
   "cell_type": "code",
   "execution_count": 8,
   "id": "81788c11-69fb-459a-bee9-642e7a4e8e73",
   "metadata": {},
   "outputs": [
    {
     "name": "stdin",
     "output_type": "stream",
     "text": [
      "Enter the first number:  56\n",
      "Enter the second number:  88\n"
     ]
    },
    {
     "name": "stdout",
     "output_type": "stream",
     "text": [
      "\n",
      "Results:\n",
      "Addition: 56.0 + 88.0 = 144.0\n",
      "Subtraction: 56.0 - 88.0 = -32.0\n",
      "Multiplication: 56.0 * 88.0 = 4928.0\n",
      "Division: 56.0 / 88.0 = 0.6363636363636364\n",
      "Modulus: 56.0 % 88.0 = 56.0\n",
      "Exponentiation: 56.0 ^ 88.0 = 6.927018963129532e+153\n",
      "Floor Division: 56.0 // 88.0 = 0.0\n"
     ]
    }
   ],
   "source": [
    "try:\n",
    "    # Taking input from the user\n",
    "    a = float(input(\"Enter the first number: \"))\n",
    "    b = float(input(\"Enter the second number: \"))\n",
    "\n",
    "    # Performing arithmetic operations\n",
    "    addition = a + b\n",
    "    subtraction = a - b\n",
    "    multiplication = a * b\n",
    "    division = a / b if b != 0 else \"undefined (division by zero)\"\n",
    "    modulus = a % b if b != 0 else \"undefined (modulus by zero)\"\n",
    "    exponentiation = a ** b\n",
    "    floor_division = a // b if b != 0 else \"undefined (floor division by zero)\"\n",
    "\n",
    "    # Displaying the results\n",
    "    print(f\"\\nResults:\")\n",
    "    print(f\"Addition: {a} + {b} = {addition}\")\n",
    "    print(f\"Subtraction: {a} - {b} = {subtraction}\")\n",
    "    print(f\"Multiplication: {a} * {b} = {multiplication}\")\n",
    "    print(f\"Division: {a} / {b} = {division}\")\n",
    "    print(f\"Modulus: {a} % {b} = {modulus}\")\n",
    "    print(f\"Exponentiation: {a} ^ {b} = {exponentiation}\")\n",
    "    print(f\"Floor Division: {a} // {b} = {floor_division}\")\n",
    "\n",
    "except ValueError:\n",
    "    print(\"Invalid input. Please enter numeric values.\")\n"
   ]
  },
  {
   "cell_type": "code",
   "execution_count": 10,
   "id": "c4aa3a1e-a813-45d9-bbee-458fa99368cd",
   "metadata": {},
   "outputs": [
    {
     "name": "stdin",
     "output_type": "stream",
     "text": [
      "Enter the first number:  77\n",
      "Enter the second number:  56\n"
     ]
    },
    {
     "name": "stdout",
     "output_type": "stream",
     "text": [
      "The first number (77.0) is greater than the second number (56.0).\n"
     ]
    }
   ],
   "source": [
    "try:\n",
    "    # Taking input from the user\n",
    "    a = float(input(\"Enter the first number: \"))\n",
    "    b = float(input(\"Enter the second number: \"))\n",
    "\n",
    "    # Comparing the numbers\n",
    "    if a == b:\n",
    "        print(f\"Both numbers are the same: {a}\")\n",
    "    elif a > b:\n",
    "        print(f\"The first number ({a}) is greater than the second number ({b}).\")\n",
    "    else:\n",
    "        print(f\"The first number ({a}) is smaller than the second number ({b}).\")\n",
    "\n",
    "except ValueError:\n",
    "    print(\"Invalid input. Please enter numeric values.\")\n"
   ]
  },
  {
   "cell_type": "code",
   "execution_count": 12,
   "id": "09b75ffe-17b6-4862-b535-a7929ebf0914",
   "metadata": {},
   "outputs": [
    {
     "name": "stdin",
     "output_type": "stream",
     "text": [
      "Enter the string: naveen\n"
     ]
    },
    {
     "name": "stdout",
     "output_type": "stream",
     "text": [
      "6\n",
      "n  n\n",
      "NAVEEN\n"
     ]
    }
   ],
   "source": [
    "a=input(\"Enter the string:\")\n",
    "print(len(a))\n",
    "print(a[0],\"\",a[len(a)-1])\n",
    "a[::-1]\n",
    "if a.isupper()==True:\n",
    "  print(a.lower())\n",
    "else:\n",
    "  print(a.upper())\n",
    "\n"
   ]
  },
  {
   "cell_type": "code",
   "execution_count": 14,
   "id": "de2c1e91-c0a0-43a7-a013-2a51052028ca",
   "metadata": {},
   "outputs": [
    {
     "name": "stdin",
     "output_type": "stream",
     "text": [
      "Enter the name of the user:  naveen\n",
      "Enter the age of the user:  23\n"
     ]
    },
    {
     "name": "stdout",
     "output_type": "stream",
     "text": [
      "The name of the user is 'naveen' and the age is 23 years.\n"
     ]
    }
   ],
   "source": [
    "try:\n",
    "    # Taking input from the user\n",
    "    name = input(\"Enter the name of the user: \").strip()\n",
    "    age = int(input(\"Enter the age of the user: \").strip())\n",
    "    if not name:\n",
    "        print(\"Name cannot be empty.\")\n",
    "    elif age < 0:\n",
    "        print(\"Age cannot be negative.\")\n",
    "    else:\n",
    "        \n",
    "        print(f\"The name of the user is '{name}' and the age is {age} years.\")\n",
    "\n",
    "except ValueError:\n",
    "    print(\"Invalid input. Please enter a valid age as a number.\")\n"
   ]
  },
  {
   "cell_type": "code",
   "execution_count": 18,
   "id": "12311af6-5d71-446a-9fc9-826c140bdc72",
   "metadata": {},
   "outputs": [
    {
     "name": "stdin",
     "output_type": "stream",
     "text": [
      "Enter value 1:  1\n",
      "Enter value 2:  2\n",
      "Enter value 3:  3\n",
      "Enter value 4:  4\n",
      "Enter value 5:  \n"
     ]
    },
    {
     "name": "stdout",
     "output_type": "stream",
     "text": [
      "Invalid input. Please enter an integer.\n"
     ]
    },
    {
     "name": "stdin",
     "output_type": "stream",
     "text": [
      "Enter value 6:  4\n"
     ]
    },
    {
     "name": "stdout",
     "output_type": "stream",
     "text": [
      "\n",
      "Original List: [1, 2, 3, 4, 4]\n",
      "Sorted List: [1, 2, 3, 4, 4]\n",
      "Max value is: 4\n",
      "Min value is: 1\n",
      "Sum of all values: 14\n"
     ]
    }
   ],
   "source": [
    "# Initializing an empty list and sum variable\n",
    "li = []\n",
    "total_sum = 0\n",
    "for i in range(6):\n",
    "    try:\n",
    "        n = int(input(f\"Enter value {i + 1}: \"))\n",
    "        li.append(n)\n",
    "        total_sum += n\n",
    "    except ValueError:\n",
    "        print(\"Invalid input. Please enter an integer.\")\n",
    "        continue\n",
    "print(\"\\nOriginal List:\", li)\n",
    "li.sort()\n",
    "print(\"Sorted List:\", li)\n",
    "if li:\n",
    "    print(f\"Max value is: {li[-1]}\")\n",
    "    print(f\"Min value is: {li[0]}\")\n",
    "else:\n",
    "    print(\"The list is empty, no max or min value to display.\")\n",
    "print(f\"Sum of all values: {total_sum}\")\n"
   ]
  },
  {
   "cell_type": "code",
   "execution_count": 24,
   "id": "a4771832-0295-423f-9e52-6aad746ce4dd",
   "metadata": {},
   "outputs": [
    {
     "name": "stdout",
     "output_type": "stream",
     "text": [
      "Initial list: ['apple', 'orange', 'grape']\n",
      "Choose an option:\n",
      "c: to change the list\n",
      "r: to remove an item\n",
      "a\n"
     ]
    }
   ],
   "source": [
    "# Initial list of fruits\n",
    "li = [\"apple\", \"orange\", \"grape\"]\n",
    "print(\"Initial list:\", li)\n",
    "\n",
    "# Display options to the user\n",
    "print(\"Choose an option:\")\n",
    "print(\"c: to change the list\")\n",
    "print(\"r: to remove an item\")\n",
    "print(\"a\")\n"
   ]
  },
  {
   "cell_type": "code",
   "execution_count": 28,
   "id": "f9ecbe63-03c0-4a63-9afc-124291456852",
   "metadata": {},
   "outputs": [
    {
     "name": "stdin",
     "output_type": "stream",
     "text": [
      "Enter a value:  23\n",
      "Enter a value:  34\n",
      "Enter a value:  5\n",
      "Enter a value:  6\n",
      "Enter a value:  66\n",
      "Enter a value:  77\n"
     ]
    },
    {
     "name": "stdout",
     "output_type": "stream",
     "text": [
      "Original list: [23, 34, 5, 6, 66, 77]\n",
      "Ascending order: [5, 6, 23, 34, 66, 77]\n",
      "Descending order: [77, 66, 34, 23, 6, 5]\n"
     ]
    }
   ],
   "source": [
    "\n",
    "li = [int(input(\"Enter a value: \")) for _ in range(6)]\n",
    "print(\"Original list:\", li)\n",
    "li.sort()\n",
    "print(\"Ascending order:\", li)\n",
    "li.sort(reverse=True)\n",
    "print(\"Descending order:\", li)\n"
   ]
  },
  {
   "cell_type": "code",
   "execution_count": null,
   "id": "f51f8154-817a-4d97-bca5-a79afbb6fe40",
   "metadata": {},
   "outputs": [],
   "source": []
  }
 ],
 "metadata": {
  "kernelspec": {
   "display_name": "Python 3 (ipykernel)",
   "language": "python",
   "name": "python3"
  },
  "language_info": {
   "codemirror_mode": {
    "name": "ipython",
    "version": 3
   },
   "file_extension": ".py",
   "mimetype": "text/x-python",
   "name": "python",
   "nbconvert_exporter": "python",
   "pygments_lexer": "ipython3",
   "version": "3.12.4"
  }
 },
 "nbformat": 4,
 "nbformat_minor": 5
}
